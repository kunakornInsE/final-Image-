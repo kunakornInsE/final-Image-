{
  "nbformat": 4,
  "nbformat_minor": 0,
  "metadata": {
    "colab": {
      "name": "Homework4.ipynb",
      "provenance": [],
      "collapsed_sections": [],
      "toc_visible": true,
      "authorship_tag": "ABX9TyN/cqDf/EmK5A4CKVo/mDQT",
      "include_colab_link": true
    },
    "kernelspec": {
      "name": "python3",
      "display_name": "Python 3"
    },
    "language_info": {
      "name": "python"
    }
  },
  "cells": [
    {
      "cell_type": "markdown",
      "metadata": {
        "id": "view-in-github",
        "colab_type": "text"
      },
      "source": [
        "<a href=\"https://colab.research.google.com/github/jbinteam/010723305/blob/main/Homework4.ipynb\" target=\"_parent\"><img src=\"https://colab.research.google.com/assets/colab-badge.svg\" alt=\"Open In Colab\"/></a>"
      ]
    },
    {
      "cell_type": "markdown",
      "metadata": {
        "id": "P1Slfqlq5bUI"
      },
      "source": [
        "# การบ้านสัปดาห์ที่ 4\n",
        "- ความเข้าใจเกี่ยวกับการประมวลภาพด้วย Morphology process เช่น erosion dilation, opening, closing และการนำไปประยุกต์ใช้งาน\n",
        "\n"
      ]
    },
    {
      "cell_type": "code",
      "metadata": {
        "id": "C_3qezrVZ8Lj"
      },
      "source": [
        "import numpy as np\n",
        "import cv2\n",
        "import matplotlib.pyplot as plt\n",
        "from PIL import Image\n",
        "from skimage import io\n",
        "from skimage.util import img_as_ubyte\n",
        "from google.colab.patches import cv2_imshow"
      ],
      "execution_count": null,
      "outputs": []
    },
    {
      "cell_type": "markdown",
      "metadata": {
        "id": "5x3JTRFJ3wS7"
      },
      "source": [
        "ให้นักศึกษาทดสอบรันโปรแกรมด้านล่างแล้วสังเกตผลลัพธ์ของการทำ morphology \n",
        "\n",
        "- ผลลัพธ์จากการเลือกใช้ structure element ที่มีลักษณะต่างกัน (เลือก uncomment SE ที่ต้องการทดสอบ SE1-SE4) \n",
        "\n",
        "- ผลลัพธ์จากการทำ erosion หรือ dilation\n"
      ]
    },
    {
      "cell_type": "code",
      "metadata": {
        "id": "vM0pMOsS5Eb6"
      },
      "source": [
        "data=np.array([[0,0  ,0  ,0  ,0  ,0  ,0  ,0  ,0  ,0  ,0  ,0],\n",
        "               [0,255,255,255,0  ,0  ,0  ,0  ,255,255,255,0],\n",
        "               [0,255,255,255,255,255,255,255,255,255,255,0],\n",
        "               [0,255,255,255,255,255,255,255,255,255,255,0],\n",
        "               [0,255,255,255,255,255,255,255,255,255,255,0],\n",
        "               [0,255,255,255,0  ,0  ,0  ,0  ,255,255,255,0],\n",
        "               [0,0  ,0  ,0  ,0  ,0  ,0  ,0  ,0  ,0  ,0  ,0]],np.uint8)\n",
        "\n",
        "horizontal_SE=np.array([[0  ,0  ,0  ],\n",
        "                        [255,255,255],\n",
        "                        [0  ,0  ,0  ]],np.uint8)\n",
        "\n",
        "vertical_SE=np.array([[0,255,0],\n",
        "                      [0,255,0],\n",
        "                      [0,255,0]],np.uint8)\n",
        "\n",
        "sqr_SE = np.ones((3,3),np.uint8)\n",
        "\n",
        "\n",
        "plus_SE=np.array([[0,255,0],\n",
        "                      [255,255,255],\n",
        "                      [0,255,0]],np.uint8)\n",
        "\n",
        "kernel=vertical_SE            #SE1\n",
        "# kernel=horizontal_SE        #SE2\n",
        "# kernel=sqr_SE               #SE3 \n",
        "# kernel=plus_SE              #SE4 \n",
        "processed=cv2.erode(data,kernel,iterations=1)     #erosion\n",
        "# processed=cv2.dilate(data,kernel,iterations=1)  #dilation\n",
        "\n",
        "\n",
        "\n",
        "#โค๊ดส่วนแสดงผล\n",
        "fig, ((original_dis,SE_dis, output_dis)) = plt.subplots(nrows=1, ncols=3)\n",
        "fig.set_figwidth(15)\n",
        "fig.set_figheight(15)\n",
        "\n",
        "\n",
        "original_dis.set_xticks(np.arange(-.5, 12, 1))\n",
        "original_dis.set_yticks(np.arange(-.5, 7, 1))\n",
        "original_dis.set_xticklabels(np.arange(0, 12, 1))\n",
        "original_dis.set_yticklabels(np.arange(0, 7, 1))\n",
        "\n",
        "original_dis.imshow(data,'gray')\n",
        "original_dis.title.set_text('original')\n",
        "original_dis.grid()\n",
        "\n",
        "SE_dis.set_xticks(np.arange(-.5, 3, 1))\n",
        "SE_dis.set_yticks(np.arange(-.5, 3, 1))\n",
        "SE_dis.set_xticklabels(np.arange(0, 3, 1))\n",
        "SE_dis.set_yticklabels(np.arange(0, 3, 1))\n",
        "\n",
        "SE_dis.imshow(kernel,'gray')\n",
        "SE_dis.title.set_text('structure element')\n",
        "SE_dis.grid()\n",
        "\n",
        "output_dis.set_xticks(np.arange(-.5, 12, 1))\n",
        "output_dis.set_yticks(np.arange(-.5, 7, 1))\n",
        "output_dis.set_xticklabels(np.arange(0, 12, 1))\n",
        "output_dis.set_yticklabels(np.arange(0, 7, 1))\n",
        "\n",
        "output_dis.imshow(processed,'gray')\n",
        "output_dis.title.set_text('output')\n",
        "output_dis.grid()\n",
        "\n",
        "\n",
        "fig.tight_layout()\n",
        "plt.show()"
      ],
      "execution_count": null,
      "outputs": []
    },
    {
      "cell_type": "markdown",
      "metadata": {
        "id": "F7QwhyG0zg1R"
      },
      "source": [
        "## แบบฝึกหัดที่ 4.1\n",
        "**วัตถุประสงค์:** เพื่อทดสอบความเข้าใจเกี่ยวกับการทำ morphology และการนำไปประยุกต์ใช้ \n",
        "\n",
        "**โจทย์:**\n",
        "จงเขียนโปรแกรมเพื่อทำการ cleanup noise และปรับปรุงภาพ finger print ด้วยการใช้เทคนิค morphology พร้อมอธิบายหลักการทำงานของโค๊ดที่เขียนด้วยข้อความสั้นๆ \n"
      ]
    },
    {
      "cell_type": "code",
      "metadata": {
        "id": "4wcR20cXqscd"
      },
      "source": [
        "url=\"https://github.com/jbinteam/010723305/blob/main/images/fingerPrint.png?raw=true\"\n",
        "\n",
        "fingerPrint_img = io.imread(url)\n",
        "original_img = img_as_ubyte(fingerPrint_img)\n",
        "\n",
        "## เขียนโค๊ดลงด้านล่างนี้\n",
        "#kernel = ___\n",
        "#eroded=cv2.erode(___)\n",
        "#dilated=cv2.dilate(___)\n",
        "\n",
        "\n",
        "cv2_imshow(original_img)"
      ],
      "execution_count": null,
      "outputs": []
    },
    {
      "cell_type": "markdown",
      "metadata": {
        "id": "Ee45v8mR19tz"
      },
      "source": [
        "## แบบฝึกหัดที่ 4.2\n",
        "**วัตถุประสงค์:** เพื่อทดสอบความเข้าใจเกี่ยวกับการทำ morphology และการนำไปประยุกต์ใช้ \n",
        "\n",
        "**โจทย์:**\n",
        "จงเขียนโปรแกรมเพื่อทำการสะกัดเส้นรอบรูปของเครื่องบินจากภาพที่กำหนดให้ ด้วยการใช้เทคนิค morphology พร้อมอธิบายหลักการทำงานของโค๊ดที่เขียนด้วยข้อความสั้นๆ\n",
        "\n",
        "<img align=\"left\" width=\"200\" height=\"200\" src=\"https://github.com/jbinteam/010723305/blob/main/images/airplane_output.png?raw=true\">"
      ]
    },
    {
      "cell_type": "code",
      "metadata": {
        "id": "C8IrMvr4yPNU"
      },
      "source": [
        "airplane_url=\"https://github.com/jbinteam/010723305/blob/main/images/airplane.png?raw=true\"\n",
        "\n",
        "airplane_img = io.imread(airplane_url)\n",
        "original_img = img_as_ubyte(airplane_img)\n",
        "\n",
        "## เขียนโค๊ดลงด้านล่างนี้\n",
        "\n",
        "\n",
        "##\n",
        "\n",
        "cv2_imshow(original_img)"
      ],
      "execution_count": null,
      "outputs": []
    }
  ]
}